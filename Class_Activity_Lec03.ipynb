{
  "nbformat": 4,
  "nbformat_minor": 0,
  "metadata": {
    "colab": {
      "name": "Class_Activity_Lec03.ipynb",
      "provenance": [],
      "collapsed_sections": [],
      "include_colab_link": true
    },
    "kernelspec": {
      "name": "python3",
      "display_name": "Python 3"
    }
  },
  "cells": [
    {
      "cell_type": "markdown",
      "metadata": {
        "id": "view-in-github",
        "colab_type": "text"
      },
      "source": [
        "<a href=\"https://colab.research.google.com/github/ANDOOR/DataVizFall2020_Colab/blob/master/Class_Activity_Lec03.ipynb\" target=\"_parent\"><img src=\"https://colab.research.google.com/assets/colab-badge.svg\" alt=\"Open In Colab\"/></a>"
      ]
    },
    {
      "cell_type": "markdown",
      "metadata": {
        "id": "Byjnt3sW70g2",
        "colab_type": "text"
      },
      "source": [
        "# Visualize New York times database for COVID-19\n",
        "## Case study Bristol and Suffolk, MA"
      ]
    },
    {
      "cell_type": "markdown",
      "metadata": {
        "id": "-yRKZ88f8Eit",
        "colab_type": "text"
      },
      "source": [
        "## Loading US County Level Data"
      ]
    },
    {
      "cell_type": "code",
      "metadata": {
        "id": "FmC4_RXYRmTQ",
        "colab_type": "code",
        "colab": {}
      },
      "source": [
        "import pandas as pd\n",
        "import matplotlib.pyplot as plt"
      ],
      "execution_count": 2,
      "outputs": []
    },
    {
      "cell_type": "code",
      "metadata": {
        "id": "Zx2TID5Q79vH",
        "colab_type": "code",
        "colab": {}
      },
      "source": [
        "# https://github.com/nytimes/covid-19-data repository location\n",
        "db = \"https://raw.githubusercontent.com/nytimes/covid-19-data/master/us-counties.csv\"\n",
        "df = pd.read_csv(db)\n"
      ],
      "execution_count": 3,
      "outputs": []
    },
    {
      "cell_type": "markdown",
      "metadata": {
        "id": "Qmo3W6WqZc-o",
        "colab_type": "text"
      },
      "source": [
        "# Explore data"
      ]
    },
    {
      "cell_type": "code",
      "metadata": {
        "id": "1LFMv0CP7vf_",
        "colab_type": "code",
        "colab": {
          "base_uri": "https://localhost:8080/",
          "height": 206
        },
        "outputId": "1214f5eb-fc96-4059-fd7b-0607b1c0133f"
      },
      "source": [
        "df.head()"
      ],
      "execution_count": 55,
      "outputs": [
        {
          "output_type": "execute_result",
          "data": {
            "text/html": [
              "<div>\n",
              "<style scoped>\n",
              "    .dataframe tbody tr th:only-of-type {\n",
              "        vertical-align: middle;\n",
              "    }\n",
              "\n",
              "    .dataframe tbody tr th {\n",
              "        vertical-align: top;\n",
              "    }\n",
              "\n",
              "    .dataframe thead th {\n",
              "        text-align: right;\n",
              "    }\n",
              "</style>\n",
              "<table border=\"1\" class=\"dataframe\">\n",
              "  <thead>\n",
              "    <tr style=\"text-align: right;\">\n",
              "      <th></th>\n",
              "      <th>date</th>\n",
              "      <th>county</th>\n",
              "      <th>state</th>\n",
              "      <th>fips</th>\n",
              "      <th>cases</th>\n",
              "      <th>deaths</th>\n",
              "    </tr>\n",
              "  </thead>\n",
              "  <tbody>\n",
              "    <tr>\n",
              "      <th>0</th>\n",
              "      <td>2020-01-21</td>\n",
              "      <td>Snohomish</td>\n",
              "      <td>Washington</td>\n",
              "      <td>53061.0</td>\n",
              "      <td>1</td>\n",
              "      <td>0</td>\n",
              "    </tr>\n",
              "    <tr>\n",
              "      <th>1</th>\n",
              "      <td>2020-01-22</td>\n",
              "      <td>Snohomish</td>\n",
              "      <td>Washington</td>\n",
              "      <td>53061.0</td>\n",
              "      <td>1</td>\n",
              "      <td>0</td>\n",
              "    </tr>\n",
              "    <tr>\n",
              "      <th>2</th>\n",
              "      <td>2020-01-23</td>\n",
              "      <td>Snohomish</td>\n",
              "      <td>Washington</td>\n",
              "      <td>53061.0</td>\n",
              "      <td>1</td>\n",
              "      <td>0</td>\n",
              "    </tr>\n",
              "    <tr>\n",
              "      <th>3</th>\n",
              "      <td>2020-01-24</td>\n",
              "      <td>Cook</td>\n",
              "      <td>Illinois</td>\n",
              "      <td>17031.0</td>\n",
              "      <td>1</td>\n",
              "      <td>0</td>\n",
              "    </tr>\n",
              "    <tr>\n",
              "      <th>4</th>\n",
              "      <td>2020-01-24</td>\n",
              "      <td>Snohomish</td>\n",
              "      <td>Washington</td>\n",
              "      <td>53061.0</td>\n",
              "      <td>1</td>\n",
              "      <td>0</td>\n",
              "    </tr>\n",
              "  </tbody>\n",
              "</table>\n",
              "</div>"
            ],
            "text/plain": [
              "         date     county       state     fips  cases  deaths\n",
              "0  2020-01-21  Snohomish  Washington  53061.0      1       0\n",
              "1  2020-01-22  Snohomish  Washington  53061.0      1       0\n",
              "2  2020-01-23  Snohomish  Washington  53061.0      1       0\n",
              "3  2020-01-24       Cook    Illinois  17031.0      1       0\n",
              "4  2020-01-24  Snohomish  Washington  53061.0      1       0"
            ]
          },
          "metadata": {
            "tags": []
          },
          "execution_count": 55
        }
      ]
    },
    {
      "cell_type": "code",
      "metadata": {
        "id": "QpoWNDUxZgSJ",
        "colab_type": "code",
        "colab": {
          "base_uri": "https://localhost:8080/",
          "height": 148
        },
        "outputId": "d78f0886-cbab-4cd6-d4c5-1eb99a2b750e"
      },
      "source": [
        "df.nunique()"
      ],
      "execution_count": 52,
      "outputs": [
        {
          "output_type": "execute_result",
          "data": {
            "text/plain": [
              "date        234\n",
              "county     1923\n",
              "state        55\n",
              "fips       3205\n",
              "cases     16027\n",
              "deaths     2381\n",
              "dtype: int64"
            ]
          },
          "metadata": {
            "tags": []
          },
          "execution_count": 52
        }
      ]
    },
    {
      "cell_type": "code",
      "metadata": {
        "id": "etJYhSSXPjdw",
        "colab_type": "code",
        "colab": {
          "base_uri": "https://localhost:8080/",
          "height": 36
        },
        "outputId": "983ea2af-b8d3-4861-fbce-b73b5259ebec"
      },
      "source": [
        "df_bristol = df[(df['county']=='Bristol') & (df['state']=='Massachusetts')]['fips'].unique()[0]\n",
        "df_bristol\n",
        "\n",
        "\n"
      ],
      "execution_count": 6,
      "outputs": [
        {
          "output_type": "execute_result",
          "data": {
            "text/plain": [
              "25005.0"
            ]
          },
          "metadata": {
            "tags": []
          },
          "execution_count": 6
        }
      ]
    },
    {
      "cell_type": "code",
      "metadata": {
        "id": "txabWAp0UILe",
        "colab_type": "code",
        "colab": {
          "base_uri": "https://localhost:8080/",
          "height": 36
        },
        "outputId": "2483c750-0bea-4b63-b502-19841dfcb006"
      },
      "source": [
        "df_suffolk = df[(df['county']=='Suffolk') & (df['state']=='Massachusetts')]['fips'].unique()[0]\n",
        "df_suffolk"
      ],
      "execution_count": 7,
      "outputs": [
        {
          "output_type": "execute_result",
          "data": {
            "text/plain": [
              "25025.0"
            ]
          },
          "metadata": {
            "tags": []
          },
          "execution_count": 7
        }
      ]
    },
    {
      "cell_type": "code",
      "metadata": {
        "id": "fRnp3ICBVsQP",
        "colab_type": "code",
        "colab": {
          "base_uri": "https://localhost:8080/",
          "height": 54
        },
        "outputId": "6fd3ff88-54f6-4b24-ba55-e9ab0e76273c"
      },
      "source": [
        "print(\"Bristol_fips =\",df_bristol)\n",
        "print(\"Suffolk_fips =\",df_suffolk)"
      ],
      "execution_count": 8,
      "outputs": [
        {
          "output_type": "stream",
          "text": [
            "Bristol_fips = 25005.0\n",
            "Suffolk_fips = 25025.0\n"
          ],
          "name": "stdout"
        }
      ]
    },
    {
      "cell_type": "code",
      "metadata": {
        "id": "n6KHjGs7RwaS",
        "colab_type": "code",
        "colab": {}
      },
      "source": [
        "# let us get fips for 2 counties  (Bristol and Suffolk, MA)\n",
        "## fips stands for : Federal Information Processing Standards\n",
        "#print(\"Bristol_fips\",df_bristol)"
      ],
      "execution_count": 9,
      "outputs": []
    },
    {
      "cell_type": "code",
      "metadata": {
        "id": "n_VxpvTTC1_S",
        "colab_type": "code",
        "colab": {
          "base_uri": "https://localhost:8080/",
          "height": 455
        },
        "outputId": "a1b8eb82-5d59-4e6a-de36-de637d025fe4"
      },
      "source": [
        "df1 = df.set_index('date')\n",
        "df1.sort_index(ascending= False)"
      ],
      "execution_count": 92,
      "outputs": [
        {
          "output_type": "execute_result",
          "data": {
            "text/html": [
              "<div>\n",
              "<style scoped>\n",
              "    .dataframe tbody tr th:only-of-type {\n",
              "        vertical-align: middle;\n",
              "    }\n",
              "\n",
              "    .dataframe tbody tr th {\n",
              "        vertical-align: top;\n",
              "    }\n",
              "\n",
              "    .dataframe thead th {\n",
              "        text-align: right;\n",
              "    }\n",
              "</style>\n",
              "<table border=\"1\" class=\"dataframe\">\n",
              "  <thead>\n",
              "    <tr style=\"text-align: right;\">\n",
              "      <th></th>\n",
              "      <th>county</th>\n",
              "      <th>state</th>\n",
              "      <th>fips</th>\n",
              "      <th>cases</th>\n",
              "      <th>deaths</th>\n",
              "      <th>daily</th>\n",
              "      <th>daily_deaths</th>\n",
              "    </tr>\n",
              "    <tr>\n",
              "      <th>date</th>\n",
              "      <th></th>\n",
              "      <th></th>\n",
              "      <th></th>\n",
              "      <th></th>\n",
              "      <th></th>\n",
              "      <th></th>\n",
              "      <th></th>\n",
              "    </tr>\n",
              "  </thead>\n",
              "  <tbody>\n",
              "    <tr>\n",
              "      <th>2020-09-10</th>\n",
              "      <td>Weston</td>\n",
              "      <td>Wyoming</td>\n",
              "      <td>56045.0</td>\n",
              "      <td>21</td>\n",
              "      <td>0</td>\n",
              "      <td>-89.0</td>\n",
              "      <td>-6.0</td>\n",
              "    </tr>\n",
              "    <tr>\n",
              "      <th>2020-09-10</th>\n",
              "      <td>McCracken</td>\n",
              "      <td>Kentucky</td>\n",
              "      <td>21145.0</td>\n",
              "      <td>579</td>\n",
              "      <td>6</td>\n",
              "      <td>466.0</td>\n",
              "      <td>4.0</td>\n",
              "    </tr>\n",
              "    <tr>\n",
              "      <th>2020-09-10</th>\n",
              "      <td>Muhlenberg</td>\n",
              "      <td>Kentucky</td>\n",
              "      <td>21177.0</td>\n",
              "      <td>708</td>\n",
              "      <td>12</td>\n",
              "      <td>657.0</td>\n",
              "      <td>12.0</td>\n",
              "    </tr>\n",
              "    <tr>\n",
              "      <th>2020-09-10</th>\n",
              "      <td>Morgan</td>\n",
              "      <td>Kentucky</td>\n",
              "      <td>21175.0</td>\n",
              "      <td>51</td>\n",
              "      <td>0</td>\n",
              "      <td>-163.0</td>\n",
              "      <td>-1.0</td>\n",
              "    </tr>\n",
              "    <tr>\n",
              "      <th>2020-09-10</th>\n",
              "      <td>Montgomery</td>\n",
              "      <td>Kentucky</td>\n",
              "      <td>21173.0</td>\n",
              "      <td>214</td>\n",
              "      <td>1</td>\n",
              "      <td>38.0</td>\n",
              "      <td>-3.0</td>\n",
              "    </tr>\n",
              "    <tr>\n",
              "      <th>...</th>\n",
              "      <td>...</td>\n",
              "      <td>...</td>\n",
              "      <td>...</td>\n",
              "      <td>...</td>\n",
              "      <td>...</td>\n",
              "      <td>...</td>\n",
              "      <td>...</td>\n",
              "    </tr>\n",
              "    <tr>\n",
              "      <th>2020-01-24</th>\n",
              "      <td>Snohomish</td>\n",
              "      <td>Washington</td>\n",
              "      <td>53061.0</td>\n",
              "      <td>1</td>\n",
              "      <td>0</td>\n",
              "      <td>0.0</td>\n",
              "      <td>0.0</td>\n",
              "    </tr>\n",
              "    <tr>\n",
              "      <th>2020-01-24</th>\n",
              "      <td>Cook</td>\n",
              "      <td>Illinois</td>\n",
              "      <td>17031.0</td>\n",
              "      <td>1</td>\n",
              "      <td>0</td>\n",
              "      <td>0.0</td>\n",
              "      <td>0.0</td>\n",
              "    </tr>\n",
              "    <tr>\n",
              "      <th>2020-01-23</th>\n",
              "      <td>Snohomish</td>\n",
              "      <td>Washington</td>\n",
              "      <td>53061.0</td>\n",
              "      <td>1</td>\n",
              "      <td>0</td>\n",
              "      <td>0.0</td>\n",
              "      <td>0.0</td>\n",
              "    </tr>\n",
              "    <tr>\n",
              "      <th>2020-01-22</th>\n",
              "      <td>Snohomish</td>\n",
              "      <td>Washington</td>\n",
              "      <td>53061.0</td>\n",
              "      <td>1</td>\n",
              "      <td>0</td>\n",
              "      <td>0.0</td>\n",
              "      <td>0.0</td>\n",
              "    </tr>\n",
              "    <tr>\n",
              "      <th>2020-01-21</th>\n",
              "      <td>Snohomish</td>\n",
              "      <td>Washington</td>\n",
              "      <td>53061.0</td>\n",
              "      <td>1</td>\n",
              "      <td>0</td>\n",
              "      <td>0.0</td>\n",
              "      <td>0.0</td>\n",
              "    </tr>\n",
              "  </tbody>\n",
              "</table>\n",
              "<p>521534 rows × 7 columns</p>\n",
              "</div>"
            ],
            "text/plain": [
              "                county       state     fips  cases  deaths  daily  daily_deaths\n",
              "date                                                                           \n",
              "2020-09-10      Weston     Wyoming  56045.0     21       0  -89.0          -6.0\n",
              "2020-09-10   McCracken    Kentucky  21145.0    579       6  466.0           4.0\n",
              "2020-09-10  Muhlenberg    Kentucky  21177.0    708      12  657.0          12.0\n",
              "2020-09-10      Morgan    Kentucky  21175.0     51       0 -163.0          -1.0\n",
              "2020-09-10  Montgomery    Kentucky  21173.0    214       1   38.0          -3.0\n",
              "...                ...         ...      ...    ...     ...    ...           ...\n",
              "2020-01-24   Snohomish  Washington  53061.0      1       0    0.0           0.0\n",
              "2020-01-24        Cook    Illinois  17031.0      1       0    0.0           0.0\n",
              "2020-01-23   Snohomish  Washington  53061.0      1       0    0.0           0.0\n",
              "2020-01-22   Snohomish  Washington  53061.0      1       0    0.0           0.0\n",
              "2020-01-21   Snohomish  Washington  53061.0      1       0    0.0           0.0\n",
              "\n",
              "[521534 rows x 7 columns]"
            ]
          },
          "metadata": {
            "tags": []
          },
          "execution_count": 92
        }
      ]
    },
    {
      "cell_type": "code",
      "metadata": {
        "id": "EmD-umb4-KC9",
        "colab_type": "code",
        "colab": {}
      },
      "source": [
        "#df1 = df[df['fips']==fips][['date','county','state','cases','deaths']]"
      ],
      "execution_count": 93,
      "outputs": []
    },
    {
      "cell_type": "code",
      "metadata": {
        "id": "xYbzk8vCR8GE",
        "colab_type": "code",
        "colab": {
          "base_uri": "https://localhost:8080/",
          "height": 237
        },
        "outputId": "252c63cf-9bc6-4762-f3d2-888161bbd174"
      },
      "source": [
        "def get_county_stat(df, fips):\n",
        "  #df1 = df[['date','county','state','cases','deaths']](df['fips']==fips)\n",
        "  \n",
        "  df1 = df[df['fips']==fips][['date','county','state','cases','deaths']].copy()\n",
        "  df1.set_index('date', inplace=True)\n",
        "  df1.index = pd.to_datetime(df1.index)\n",
        "  return df1\n",
        "\n",
        "\n",
        "\n",
        "\n",
        "\n",
        "get_county_stat(df,df_bristol).head()"
      ],
      "execution_count": 111,
      "outputs": [
        {
          "output_type": "execute_result",
          "data": {
            "text/html": [
              "<div>\n",
              "<style scoped>\n",
              "    .dataframe tbody tr th:only-of-type {\n",
              "        vertical-align: middle;\n",
              "    }\n",
              "\n",
              "    .dataframe tbody tr th {\n",
              "        vertical-align: top;\n",
              "    }\n",
              "\n",
              "    .dataframe thead th {\n",
              "        text-align: right;\n",
              "    }\n",
              "</style>\n",
              "<table border=\"1\" class=\"dataframe\">\n",
              "  <thead>\n",
              "    <tr style=\"text-align: right;\">\n",
              "      <th></th>\n",
              "      <th>county</th>\n",
              "      <th>state</th>\n",
              "      <th>cases</th>\n",
              "      <th>deaths</th>\n",
              "    </tr>\n",
              "    <tr>\n",
              "      <th>date</th>\n",
              "      <th></th>\n",
              "      <th></th>\n",
              "      <th></th>\n",
              "      <th></th>\n",
              "    </tr>\n",
              "  </thead>\n",
              "  <tbody>\n",
              "    <tr>\n",
              "      <th>2020-01-26</th>\n",
              "      <td>Los Angeles</td>\n",
              "      <td>California</td>\n",
              "      <td>1</td>\n",
              "      <td>0</td>\n",
              "    </tr>\n",
              "    <tr>\n",
              "      <th>2020-01-27</th>\n",
              "      <td>Los Angeles</td>\n",
              "      <td>California</td>\n",
              "      <td>1</td>\n",
              "      <td>0</td>\n",
              "    </tr>\n",
              "    <tr>\n",
              "      <th>2020-01-28</th>\n",
              "      <td>Los Angeles</td>\n",
              "      <td>California</td>\n",
              "      <td>1</td>\n",
              "      <td>0</td>\n",
              "    </tr>\n",
              "    <tr>\n",
              "      <th>2020-01-29</th>\n",
              "      <td>Los Angeles</td>\n",
              "      <td>California</td>\n",
              "      <td>1</td>\n",
              "      <td>0</td>\n",
              "    </tr>\n",
              "    <tr>\n",
              "      <th>2020-01-30</th>\n",
              "      <td>Los Angeles</td>\n",
              "      <td>California</td>\n",
              "      <td>1</td>\n",
              "      <td>0</td>\n",
              "    </tr>\n",
              "  </tbody>\n",
              "</table>\n",
              "</div>"
            ],
            "text/plain": [
              "                 county       state  cases  deaths\n",
              "date                                              \n",
              "2020-01-26  Los Angeles  California      1       0\n",
              "2020-01-27  Los Angeles  California      1       0\n",
              "2020-01-28  Los Angeles  California      1       0\n",
              "2020-01-29  Los Angeles  California      1       0\n",
              "2020-01-30  Los Angeles  California      1       0"
            ]
          },
          "metadata": {
            "tags": []
          },
          "execution_count": 111
        }
      ]
    },
    {
      "cell_type": "markdown",
      "metadata": {
        "id": "ZdvAU6NsXmXZ",
        "colab_type": "text"
      },
      "source": [
        "## Explore data type"
      ]
    },
    {
      "cell_type": "code",
      "metadata": {
        "id": "SqrW8_oTXlxH",
        "colab_type": "code",
        "colab": {}
      },
      "source": [
        "df_Bristol = get_county_stat(df,25005)\n",
        "df_Suffolk = get_county_stat(df,25025)\n"
      ],
      "execution_count": 36,
      "outputs": []
    },
    {
      "cell_type": "code",
      "metadata": {
        "id": "q1Qk1fwwKAzU",
        "colab_type": "code",
        "colab": {
          "base_uri": "https://localhost:8080/",
          "height": 409
        },
        "outputId": "3e975b22-caaf-4566-a2a1-604ab807493b"
      },
      "source": [
        "f,ax = plt.subplots(1,2,figsize=(18,6))\n",
        "\n",
        "ax[0].plot(df_Bristol.index,df_Bristol.cases,c='b',ls='-.',label='Bristol Cases',fillstyle='none')\n",
        "#ax[0].plot(df_Bristol.index,df_Bristol.cases,'-.',color='steelblue',label='Bristol cases')\n",
        "ax[0].plot(df_Bristol.index,df_Bristol.deaths,c='orange',ls='-.',label='Bristol deaths',fillstyle='none')\n",
        "ax[0].plot(df_Suffolk.index,df_Suffolk.cases,c='darkblue',ls='-.',label='Suffolk cases',fillstyle='none')\n",
        "ax[0].plot(df_Suffolk.index,df_Suffolk.deaths,c='red',ls='-.',label='Suffolk deaths',fillstyle='none')\n",
        "ax[0].legend()\n",
        "ax[0].set_title('Bristol vs Suffolk')\n",
        "\n",
        "barWidth = 0.5\n",
        "past = -90\n",
        "ax[1].bar(df_Bristol.index[past:],df_Bristol.deaths[past:], width=barWidth, label = 'Bristol')\n",
        "ax[1].bar(df_Suffolk.index[past:],df_Suffolk.deaths[past:], width=barWidth, label = 'Suffolk', bottom=df_Bristol.deaths[past:])\n",
        "ax[1].legend()\n",
        "ax[1].set_title('Deaths Comparison')\n"
      ],
      "execution_count": 44,
      "outputs": [
        {
          "output_type": "execute_result",
          "data": {
            "text/plain": [
              "Text(0.5, 1.0, 'Deaths Comparison')"
            ]
          },
          "metadata": {
            "tags": []
          },
          "execution_count": 44
        },
        {
          "output_type": "display_data",
          "data": {
            "image/png": "[encoded data removed]",
            "text/plain": [
              "<Figure size 1296x432 with 2 Axes>"
            ]
          },
          "metadata": {
            "tags": [],
            "needs_background": "light"
          }
        }
      ]
    },
    {
      "cell_type": "code",
      "metadata": {
        "id": "_ZjaOIFdvHCM",
        "colab_type": "code",
        "colab": {
          "base_uri": "https://localhost:8080/",
          "height": 990
        },
        "outputId": "1c8a365d-768a-43e0-84ef-bc3bdd880a60"
      },
      "source": [
        "df['daily'] = df.groupby('county')['cases'].diff().fillna(0)\n",
        "df['daily_deaths'] = df.groupby('county')['deaths'].diff().fillna(0)\n",
        "#df['daily'] = df['daily'].rolling(window = 3).max()\n",
        "df.tail(30)"
      ],
      "execution_count": 117,
      "outputs": [
        {
          "output_type": "execute_result",
          "data": {
            "text/html": [
              "<div>\n",
              "<style scoped>\n",
              "    .dataframe tbody tr th:only-of-type {\n",
              "        vertical-align: middle;\n",
              "    }\n",
              "\n",
              "    .dataframe tbody tr th {\n",
              "        vertical-align: top;\n",
              "    }\n",
              "\n",
              "    .dataframe thead th {\n",
              "        text-align: right;\n",
              "    }\n",
              "</style>\n",
              "<table border=\"1\" class=\"dataframe\">\n",
              "  <thead>\n",
              "    <tr style=\"text-align: right;\">\n",
              "      <th></th>\n",
              "      <th>date</th>\n",
              "      <th>county</th>\n",
              "      <th>state</th>\n",
              "      <th>fips</th>\n",
              "      <th>cases</th>\n",
              "      <th>deaths</th>\n",
              "      <th>daily</th>\n",
              "      <th>daily_deaths</th>\n",
              "    </tr>\n",
              "  </thead>\n",
              "  <tbody>\n",
              "    <tr>\n",
              "      <th>521504</th>\n",
              "      <td>2020-09-10</td>\n",
              "      <td>Washburn</td>\n",
              "      <td>Wisconsin</td>\n",
              "      <td>55129.0</td>\n",
              "      <td>80</td>\n",
              "      <td>0</td>\n",
              "      <td>1.0</td>\n",
              "      <td>0.0</td>\n",
              "    </tr>\n",
              "    <tr>\n",
              "      <th>521505</th>\n",
              "      <td>2020-09-10</td>\n",
              "      <td>Washington</td>\n",
              "      <td>Wisconsin</td>\n",
              "      <td>55131.0</td>\n",
              "      <td>1903</td>\n",
              "      <td>31</td>\n",
              "      <td>1470.0</td>\n",
              "      <td>21.0</td>\n",
              "    </tr>\n",
              "    <tr>\n",
              "      <th>521506</th>\n",
              "      <td>2020-09-10</td>\n",
              "      <td>Waukesha</td>\n",
              "      <td>Wisconsin</td>\n",
              "      <td>55133.0</td>\n",
              "      <td>6511</td>\n",
              "      <td>81</td>\n",
              "      <td>67.0</td>\n",
              "      <td>3.0</td>\n",
              "    </tr>\n",
              "    <tr>\n",
              "      <th>521507</th>\n",
              "      <td>2020-09-10</td>\n",
              "      <td>Waupaca</td>\n",
              "      <td>Wisconsin</td>\n",
              "      <td>55135.0</td>\n",
              "      <td>888</td>\n",
              "      <td>19</td>\n",
              "      <td>5.0</td>\n",
              "      <td>0.0</td>\n",
              "    </tr>\n",
              "    <tr>\n",
              "      <th>521508</th>\n",
              "      <td>2020-09-10</td>\n",
              "      <td>Waushara</td>\n",
              "      <td>Wisconsin</td>\n",
              "      <td>55137.0</td>\n",
              "      <td>215</td>\n",
              "      <td>2</td>\n",
              "      <td>9.0</td>\n",
              "      <td>0.0</td>\n",
              "    </tr>\n",
              "    <tr>\n",
              "      <th>521509</th>\n",
              "      <td>2020-09-10</td>\n",
              "      <td>Winnebago</td>\n",
              "      <td>Wisconsin</td>\n",
              "      <td>55139.0</td>\n",
              "      <td>1882</td>\n",
              "      <td>22</td>\n",
              "      <td>1694.0</td>\n",
              "      <td>12.0</td>\n",
              "    </tr>\n",
              "    <tr>\n",
              "      <th>521510</th>\n",
              "      <td>2020-09-10</td>\n",
              "      <td>Wood</td>\n",
              "      <td>Wisconsin</td>\n",
              "      <td>55141.0</td>\n",
              "      <td>570</td>\n",
              "      <td>3</td>\n",
              "      <td>243.0</td>\n",
              "      <td>-2.0</td>\n",
              "    </tr>\n",
              "    <tr>\n",
              "      <th>521511</th>\n",
              "      <td>2020-09-10</td>\n",
              "      <td>Albany</td>\n",
              "      <td>Wyoming</td>\n",
              "      <td>56001.0</td>\n",
              "      <td>212</td>\n",
              "      <td>0</td>\n",
              "      <td>-2647.0</td>\n",
              "      <td>-122.0</td>\n",
              "    </tr>\n",
              "    <tr>\n",
              "      <th>521512</th>\n",
              "      <td>2020-09-10</td>\n",
              "      <td>Big Horn</td>\n",
              "      <td>Wyoming</td>\n",
              "      <td>56003.0</td>\n",
              "      <td>51</td>\n",
              "      <td>1</td>\n",
              "      <td>-699.0</td>\n",
              "      <td>-16.0</td>\n",
              "    </tr>\n",
              "    <tr>\n",
              "      <th>521513</th>\n",
              "      <td>2020-09-10</td>\n",
              "      <td>Campbell</td>\n",
              "      <td>Wyoming</td>\n",
              "      <td>56005.0</td>\n",
              "      <td>214</td>\n",
              "      <td>1</td>\n",
              "      <td>-145.0</td>\n",
              "      <td>-2.0</td>\n",
              "    </tr>\n",
              "    <tr>\n",
              "      <th>521514</th>\n",
              "      <td>2020-09-10</td>\n",
              "      <td>Carbon</td>\n",
              "      <td>Wyoming</td>\n",
              "      <td>56007.0</td>\n",
              "      <td>193</td>\n",
              "      <td>2</td>\n",
              "      <td>104.0</td>\n",
              "      <td>2.0</td>\n",
              "    </tr>\n",
              "    <tr>\n",
              "      <th>521515</th>\n",
              "      <td>2020-09-10</td>\n",
              "      <td>Converse</td>\n",
              "      <td>Wyoming</td>\n",
              "      <td>56009.0</td>\n",
              "      <td>59</td>\n",
              "      <td>0</td>\n",
              "      <td>5.0</td>\n",
              "      <td>0.0</td>\n",
              "    </tr>\n",
              "    <tr>\n",
              "      <th>521516</th>\n",
              "      <td>2020-09-10</td>\n",
              "      <td>Crook</td>\n",
              "      <td>Wyoming</td>\n",
              "      <td>56011.0</td>\n",
              "      <td>17</td>\n",
              "      <td>0</td>\n",
              "      <td>-42.0</td>\n",
              "      <td>-1.0</td>\n",
              "    </tr>\n",
              "    <tr>\n",
              "      <th>521517</th>\n",
              "      <td>2020-09-10</td>\n",
              "      <td>Fremont</td>\n",
              "      <td>Wyoming</td>\n",
              "      <td>56013.0</td>\n",
              "      <td>616</td>\n",
              "      <td>14</td>\n",
              "      <td>553.0</td>\n",
              "      <td>14.0</td>\n",
              "    </tr>\n",
              "    <tr>\n",
              "      <th>521518</th>\n",
              "      <td>2020-09-10</td>\n",
              "      <td>Goshen</td>\n",
              "      <td>Wyoming</td>\n",
              "      <td>56015.0</td>\n",
              "      <td>69</td>\n",
              "      <td>1</td>\n",
              "      <td>1.0</td>\n",
              "      <td>0.0</td>\n",
              "    </tr>\n",
              "    <tr>\n",
              "      <th>521519</th>\n",
              "      <td>2020-09-10</td>\n",
              "      <td>Hot Springs</td>\n",
              "      <td>Wyoming</td>\n",
              "      <td>56017.0</td>\n",
              "      <td>32</td>\n",
              "      <td>0</td>\n",
              "      <td>1.0</td>\n",
              "      <td>0.0</td>\n",
              "    </tr>\n",
              "    <tr>\n",
              "      <th>521520</th>\n",
              "      <td>2020-09-10</td>\n",
              "      <td>Johnson</td>\n",
              "      <td>Wyoming</td>\n",
              "      <td>56019.0</td>\n",
              "      <td>29</td>\n",
              "      <td>1</td>\n",
              "      <td>-2586.0</td>\n",
              "      <td>-45.0</td>\n",
              "    </tr>\n",
              "    <tr>\n",
              "      <th>521521</th>\n",
              "      <td>2020-09-10</td>\n",
              "      <td>Laramie</td>\n",
              "      <td>Wyoming</td>\n",
              "      <td>56021.0</td>\n",
              "      <td>603</td>\n",
              "      <td>4</td>\n",
              "      <td>6.0</td>\n",
              "      <td>0.0</td>\n",
              "    </tr>\n",
              "    <tr>\n",
              "      <th>521522</th>\n",
              "      <td>2020-09-10</td>\n",
              "      <td>Lincoln</td>\n",
              "      <td>Wyoming</td>\n",
              "      <td>56023.0</td>\n",
              "      <td>121</td>\n",
              "      <td>1</td>\n",
              "      <td>17.0</td>\n",
              "      <td>0.0</td>\n",
              "    </tr>\n",
              "    <tr>\n",
              "      <th>521523</th>\n",
              "      <td>2020-09-10</td>\n",
              "      <td>Natrona</td>\n",
              "      <td>Wyoming</td>\n",
              "      <td>56025.0</td>\n",
              "      <td>335</td>\n",
              "      <td>2</td>\n",
              "      <td>5.0</td>\n",
              "      <td>0.0</td>\n",
              "    </tr>\n",
              "    <tr>\n",
              "      <th>521524</th>\n",
              "      <td>2020-09-10</td>\n",
              "      <td>Niobrara</td>\n",
              "      <td>Wyoming</td>\n",
              "      <td>56027.0</td>\n",
              "      <td>3</td>\n",
              "      <td>0</td>\n",
              "      <td>0.0</td>\n",
              "      <td>0.0</td>\n",
              "    </tr>\n",
              "    <tr>\n",
              "      <th>521525</th>\n",
              "      <td>2020-09-10</td>\n",
              "      <td>Park</td>\n",
              "      <td>Wyoming</td>\n",
              "      <td>56029.0</td>\n",
              "      <td>183</td>\n",
              "      <td>1</td>\n",
              "      <td>109.0</td>\n",
              "      <td>1.0</td>\n",
              "    </tr>\n",
              "    <tr>\n",
              "      <th>521526</th>\n",
              "      <td>2020-09-10</td>\n",
              "      <td>Platte</td>\n",
              "      <td>Wyoming</td>\n",
              "      <td>56031.0</td>\n",
              "      <td>7</td>\n",
              "      <td>1</td>\n",
              "      <td>-937.0</td>\n",
              "      <td>-2.0</td>\n",
              "    </tr>\n",
              "    <tr>\n",
              "      <th>521527</th>\n",
              "      <td>2020-09-10</td>\n",
              "      <td>Sheridan</td>\n",
              "      <td>Wyoming</td>\n",
              "      <td>56033.0</td>\n",
              "      <td>191</td>\n",
              "      <td>1</td>\n",
              "      <td>182.0</td>\n",
              "      <td>1.0</td>\n",
              "    </tr>\n",
              "    <tr>\n",
              "      <th>521528</th>\n",
              "      <td>2020-09-10</td>\n",
              "      <td>Sublette</td>\n",
              "      <td>Wyoming</td>\n",
              "      <td>56035.0</td>\n",
              "      <td>51</td>\n",
              "      <td>1</td>\n",
              "      <td>0.0</td>\n",
              "      <td>0.0</td>\n",
              "    </tr>\n",
              "    <tr>\n",
              "      <th>521529</th>\n",
              "      <td>2020-09-10</td>\n",
              "      <td>Sweetwater</td>\n",
              "      <td>Wyoming</td>\n",
              "      <td>56037.0</td>\n",
              "      <td>319</td>\n",
              "      <td>2</td>\n",
              "      <td>3.0</td>\n",
              "      <td>0.0</td>\n",
              "    </tr>\n",
              "    <tr>\n",
              "      <th>521530</th>\n",
              "      <td>2020-09-10</td>\n",
              "      <td>Teton</td>\n",
              "      <td>Wyoming</td>\n",
              "      <td>56039.0</td>\n",
              "      <td>453</td>\n",
              "      <td>1</td>\n",
              "      <td>435.0</td>\n",
              "      <td>1.0</td>\n",
              "    </tr>\n",
              "    <tr>\n",
              "      <th>521531</th>\n",
              "      <td>2020-09-10</td>\n",
              "      <td>Uinta</td>\n",
              "      <td>Wyoming</td>\n",
              "      <td>56041.0</td>\n",
              "      <td>310</td>\n",
              "      <td>2</td>\n",
              "      <td>2.0</td>\n",
              "      <td>0.0</td>\n",
              "    </tr>\n",
              "    <tr>\n",
              "      <th>521532</th>\n",
              "      <td>2020-09-10</td>\n",
              "      <td>Washakie</td>\n",
              "      <td>Wyoming</td>\n",
              "      <td>56043.0</td>\n",
              "      <td>110</td>\n",
              "      <td>6</td>\n",
              "      <td>0.0</td>\n",
              "      <td>0.0</td>\n",
              "    </tr>\n",
              "    <tr>\n",
              "      <th>521533</th>\n",
              "      <td>2020-09-10</td>\n",
              "      <td>Weston</td>\n",
              "      <td>Wyoming</td>\n",
              "      <td>56045.0</td>\n",
              "      <td>21</td>\n",
              "      <td>0</td>\n",
              "      <td>0.0</td>\n",
              "      <td>0.0</td>\n",
              "    </tr>\n",
              "  </tbody>\n",
              "</table>\n",
              "</div>"
            ],
            "text/plain": [
              "              date       county      state  ...  deaths   daily  daily_deaths\n",
              "521504  2020-09-10     Washburn  Wisconsin  ...       0     1.0           0.0\n",
              "521505  2020-09-10   Washington  Wisconsin  ...      31  1470.0          21.0\n",
              "521506  2020-09-10     Waukesha  Wisconsin  ...      81    67.0           3.0\n",
              "521507  2020-09-10      Waupaca  Wisconsin  ...      19     5.0           0.0\n",
              "521508  2020-09-10     Waushara  Wisconsin  ...       2     9.0           0.0\n",
              "521509  2020-09-10    Winnebago  Wisconsin  ...      22  1694.0          12.0\n",
              "521510  2020-09-10         Wood  Wisconsin  ...       3   243.0          -2.0\n",
              "521511  2020-09-10       Albany    Wyoming  ...       0 -2647.0        -122.0\n",
              "521512  2020-09-10     Big Horn    Wyoming  ...       1  -699.0         -16.0\n",
              "521513  2020-09-10     Campbell    Wyoming  ...       1  -145.0          -2.0\n",
              "521514  2020-09-10       Carbon    Wyoming  ...       2   104.0           2.0\n",
              "521515  2020-09-10     Converse    Wyoming  ...       0     5.0           0.0\n",
              "521516  2020-09-10        Crook    Wyoming  ...       0   -42.0          -1.0\n",
              "521517  2020-09-10      Fremont    Wyoming  ...      14   553.0          14.0\n",
              "521518  2020-09-10       Goshen    Wyoming  ...       1     1.0           0.0\n",
              "521519  2020-09-10  Hot Springs    Wyoming  ...       0     1.0           0.0\n",
              "521520  2020-09-10      Johnson    Wyoming  ...       1 -2586.0         -45.0\n",
              "521521  2020-09-10      Laramie    Wyoming  ...       4     6.0           0.0\n",
              "521522  2020-09-10      Lincoln    Wyoming  ...       1    17.0           0.0\n",
              "521523  2020-09-10      Natrona    Wyoming  ...       2     5.0           0.0\n",
              "521524  2020-09-10     Niobrara    Wyoming  ...       0     0.0           0.0\n",
              "521525  2020-09-10         Park    Wyoming  ...       1   109.0           1.0\n",
              "521526  2020-09-10       Platte    Wyoming  ...       1  -937.0          -2.0\n",
              "521527  2020-09-10     Sheridan    Wyoming  ...       1   182.0           1.0\n",
              "521528  2020-09-10     Sublette    Wyoming  ...       1     0.0           0.0\n",
              "521529  2020-09-10   Sweetwater    Wyoming  ...       2     3.0           0.0\n",
              "521530  2020-09-10        Teton    Wyoming  ...       1   435.0           1.0\n",
              "521531  2020-09-10        Uinta    Wyoming  ...       2     2.0           0.0\n",
              "521532  2020-09-10     Washakie    Wyoming  ...       6     0.0           0.0\n",
              "521533  2020-09-10       Weston    Wyoming  ...       0     0.0           0.0\n",
              "\n",
              "[30 rows x 8 columns]"
            ]
          },
          "metadata": {
            "tags": []
          },
          "execution_count": 117
        }
      ]
    },
    {
      "cell_type": "code",
      "metadata": {
        "id": "lYE52OMEf5-r",
        "colab_type": "code",
        "colab": {
          "base_uri": "https://localhost:8080/",
          "height": 1000
        },
        "outputId": "f38eef3c-d433-4000-ff67-da192cde956d"
      },
      "source": [
        "\n",
        "\n",
        "cases = df.groupby('county').agg({'daily':'sum'}).sort_values(by='daily', ascending= False)\n",
        "cases.head(30)\n"
      ],
      "execution_count": 119,
      "outputs": [
        {
          "output_type": "execute_result",
          "data": {
            "text/html": [
              "<div>\n",
              "<style scoped>\n",
              "    .dataframe tbody tr th:only-of-type {\n",
              "        vertical-align: middle;\n",
              "    }\n",
              "\n",
              "    .dataframe tbody tr th {\n",
              "        vertical-align: top;\n",
              "    }\n",
              "\n",
              "    .dataframe thead th {\n",
              "        text-align: right;\n",
              "    }\n",
              "</style>\n",
              "<table border=\"1\" class=\"dataframe\">\n",
              "  <thead>\n",
              "    <tr style=\"text-align: right;\">\n",
              "      <th></th>\n",
              "      <th>daily</th>\n",
              "    </tr>\n",
              "    <tr>\n",
              "      <th>county</th>\n",
              "      <th></th>\n",
              "    </tr>\n",
              "  </thead>\n",
              "  <tbody>\n",
              "    <tr>\n",
              "      <th>Los Angeles</th>\n",
              "      <td>251023.0</td>\n",
              "    </tr>\n",
              "    <tr>\n",
              "      <th>New York City</th>\n",
              "      <td>241685.0</td>\n",
              "    </tr>\n",
              "    <tr>\n",
              "      <th>Miami-Dade</th>\n",
              "      <td>162892.0</td>\n",
              "    </tr>\n",
              "    <tr>\n",
              "      <th>Maricopa</th>\n",
              "      <td>136570.0</td>\n",
              "    </tr>\n",
              "    <tr>\n",
              "      <th>Harris</th>\n",
              "      <td>113500.0</td>\n",
              "    </tr>\n",
              "    <tr>\n",
              "      <th>Dallas</th>\n",
              "      <td>77946.0</td>\n",
              "    </tr>\n",
              "    <tr>\n",
              "      <th>Broward</th>\n",
              "      <td>73867.0</td>\n",
              "    </tr>\n",
              "    <tr>\n",
              "      <th>Riverside</th>\n",
              "      <td>54867.0</td>\n",
              "    </tr>\n",
              "    <tr>\n",
              "      <th>San Bernardino</th>\n",
              "      <td>50209.0</td>\n",
              "    </tr>\n",
              "    <tr>\n",
              "      <th>Bexar</th>\n",
              "      <td>47967.0</td>\n",
              "    </tr>\n",
              "    <tr>\n",
              "      <th>Suffolk</th>\n",
              "      <td>45462.0</td>\n",
              "    </tr>\n",
              "    <tr>\n",
              "      <th>Nassau</th>\n",
              "      <td>45444.0</td>\n",
              "    </tr>\n",
              "    <tr>\n",
              "      <th>Tarrant</th>\n",
              "      <td>43725.0</td>\n",
              "    </tr>\n",
              "    <tr>\n",
              "      <th>Palm Beach</th>\n",
              "      <td>43528.0</td>\n",
              "    </tr>\n",
              "    <tr>\n",
              "      <th>San Diego</th>\n",
              "      <td>41670.0</td>\n",
              "    </tr>\n",
              "    <tr>\n",
              "      <th>Westchester</th>\n",
              "      <td>37395.0</td>\n",
              "    </tr>\n",
              "    <tr>\n",
              "      <th>Philadelphia</th>\n",
              "      <td>34886.0</td>\n",
              "    </tr>\n",
              "    <tr>\n",
              "      <th>Kern</th>\n",
              "      <td>30439.0</td>\n",
              "    </tr>\n",
              "    <tr>\n",
              "      <th>Hidalgo</th>\n",
              "      <td>29020.0</td>\n",
              "    </tr>\n",
              "    <tr>\n",
              "      <th>Prince George's</th>\n",
              "      <td>27618.0</td>\n",
              "    </tr>\n",
              "    <tr>\n",
              "      <th>Travis</th>\n",
              "      <td>27420.0</td>\n",
              "    </tr>\n",
              "    <tr>\n",
              "      <th>Davidson</th>\n",
              "      <td>26987.0</td>\n",
              "    </tr>\n",
              "    <tr>\n",
              "      <th>Fresno</th>\n",
              "      <td>26723.0</td>\n",
              "    </tr>\n",
              "    <tr>\n",
              "      <th>Milwaukee</th>\n",
              "      <td>26668.0</td>\n",
              "    </tr>\n",
              "    <tr>\n",
              "      <th>Gwinnett</th>\n",
              "      <td>25494.0</td>\n",
              "    </tr>\n",
              "    <tr>\n",
              "      <th>Salt Lake</th>\n",
              "      <td>25485.0</td>\n",
              "    </tr>\n",
              "    <tr>\n",
              "      <th>Hennepin</th>\n",
              "      <td>24388.0</td>\n",
              "    </tr>\n",
              "    <tr>\n",
              "      <th>Pima</th>\n",
              "      <td>22139.0</td>\n",
              "    </tr>\n",
              "    <tr>\n",
              "      <th>Bergen</th>\n",
              "      <td>22136.0</td>\n",
              "    </tr>\n",
              "    <tr>\n",
              "      <th>Cameron</th>\n",
              "      <td>21942.0</td>\n",
              "    </tr>\n",
              "  </tbody>\n",
              "</table>\n",
              "</div>"
            ],
            "text/plain": [
              "                    daily\n",
              "county                   \n",
              "Los Angeles      251023.0\n",
              "New York City    241685.0\n",
              "Miami-Dade       162892.0\n",
              "Maricopa         136570.0\n",
              "Harris           113500.0\n",
              "Dallas            77946.0\n",
              "Broward           73867.0\n",
              "Riverside         54867.0\n",
              "San Bernardino    50209.0\n",
              "Bexar             47967.0\n",
              "Suffolk           45462.0\n",
              "Nassau            45444.0\n",
              "Tarrant           43725.0\n",
              "Palm Beach        43528.0\n",
              "San Diego         41670.0\n",
              "Westchester       37395.0\n",
              "Philadelphia      34886.0\n",
              "Kern              30439.0\n",
              "Hidalgo           29020.0\n",
              "Prince George's   27618.0\n",
              "Travis            27420.0\n",
              "Davidson          26987.0\n",
              "Fresno            26723.0\n",
              "Milwaukee         26668.0\n",
              "Gwinnett          25494.0\n",
              "Salt Lake         25485.0\n",
              "Hennepin          24388.0\n",
              "Pima              22139.0\n",
              "Bergen            22136.0\n",
              "Cameron           21942.0"
            ]
          },
          "metadata": {
            "tags": []
          },
          "execution_count": 119
        }
      ]
    },
    {
      "cell_type": "code",
      "metadata": {
        "id": "T2_aE5mfAKhO",
        "colab_type": "code",
        "colab": {
          "base_uri": "https://localhost:8080/",
          "height": 394
        },
        "outputId": "cc0f58eb-670e-454c-816f-9e558665bbd0"
      },
      "source": [
        "\n",
        "\n",
        "deaths = df.groupby('county').agg({'daily_deaths':'sum'}).sort_values(by='deaths', ascending= False)\n",
        "deaths.head(10)"
      ],
      "execution_count": 114,
      "outputs": [
        {
          "output_type": "execute_result",
          "data": {
            "text/html": [
              "<div>\n",
              "<style scoped>\n",
              "    .dataframe tbody tr th:only-of-type {\n",
              "        vertical-align: middle;\n",
              "    }\n",
              "\n",
              "    .dataframe tbody tr th {\n",
              "        vertical-align: top;\n",
              "    }\n",
              "\n",
              "    .dataframe thead th {\n",
              "        text-align: right;\n",
              "    }\n",
              "</style>\n",
              "<table border=\"1\" class=\"dataframe\">\n",
              "  <thead>\n",
              "    <tr style=\"text-align: right;\">\n",
              "      <th></th>\n",
              "      <th>daily_deaths</th>\n",
              "    </tr>\n",
              "    <tr>\n",
              "      <th>county</th>\n",
              "      <th></th>\n",
              "    </tr>\n",
              "  </thead>\n",
              "  <tbody>\n",
              "    <tr>\n",
              "      <th>New York City</th>\n",
              "      <td>23741.0</td>\n",
              "    </tr>\n",
              "    <tr>\n",
              "      <th>Los Angeles</th>\n",
              "      <td>6128.0</td>\n",
              "    </tr>\n",
              "    <tr>\n",
              "      <th>Maricopa</th>\n",
              "      <td>3133.0</td>\n",
              "    </tr>\n",
              "    <tr>\n",
              "      <th>Miami-Dade</th>\n",
              "      <td>2789.0</td>\n",
              "    </tr>\n",
              "    <tr>\n",
              "      <th>Harris</th>\n",
              "      <td>2363.0</td>\n",
              "    </tr>\n",
              "    <tr>\n",
              "      <th>Nassau</th>\n",
              "      <td>2199.0</td>\n",
              "    </tr>\n",
              "    <tr>\n",
              "      <th>Bergen</th>\n",
              "      <td>2040.0</td>\n",
              "    </tr>\n",
              "    <tr>\n",
              "      <th>Suffolk</th>\n",
              "      <td>2006.0</td>\n",
              "    </tr>\n",
              "    <tr>\n",
              "      <th>Philadelphia</th>\n",
              "      <td>1781.0</td>\n",
              "    </tr>\n",
              "    <tr>\n",
              "      <th>Hudson</th>\n",
              "      <td>1512.0</td>\n",
              "    </tr>\n",
              "  </tbody>\n",
              "</table>\n",
              "</div>"
            ],
            "text/plain": [
              "               daily_deaths\n",
              "county                     \n",
              "New York City       23741.0\n",
              "Los Angeles          6128.0\n",
              "Maricopa             3133.0\n",
              "Miami-Dade           2789.0\n",
              "Harris               2363.0\n",
              "Nassau               2199.0\n",
              "Bergen               2040.0\n",
              "Suffolk              2006.0\n",
              "Philadelphia         1781.0\n",
              "Hudson               1512.0"
            ]
          },
          "metadata": {
            "tags": []
          },
          "execution_count": 114
        }
      ]
    },
    {
      "cell_type": "markdown",
      "metadata": {
        "id": "3Ir7AQGfSrl7",
        "colab_type": "text"
      },
      "source": [
        "## Top 10 counties by number of cases and deaths \n",
        "\n",
        "\n",
        "\n",
        "```\n",
        "# This is formatted as code\n",
        "```\n",
        "\n",
        "\n",
        "\n"
      ]
    },
    {
      "cell_type": "markdown",
      "metadata": {
        "id": "aHvTcmdfgy38",
        "colab_type": "text"
      },
      "source": [
        "## Death rate Per FIPS "
      ]
    },
    {
      "cell_type": "code",
      "metadata": {
        "id": "9fNijuO8R9Hx",
        "colab_type": "code",
        "colab": {}
      },
      "source": [
        ""
      ],
      "execution_count": null,
      "outputs": []
    },
    {
      "cell_type": "code",
      "metadata": {
        "id": "1lJmC-FEhhY-",
        "colab_type": "code",
        "colab": {}
      },
      "source": [
        ""
      ],
      "execution_count": null,
      "outputs": []
    },
    {
      "cell_type": "markdown",
      "metadata": {
        "id": "FqTGKtk5hQ-I",
        "colab_type": "text"
      },
      "source": [
        "## <font color = red> Bonus Point</font>\n",
        "\n",
        "### A function that makes \"Folium Choropleth Map\" for Weekly Cases, Weekly Deaths and Weekly Mortality Rate </font>\n",
        "\n",
        "ALL COUNTIES\n",
        "\n",
        "<br>\n",
        "\n",
        "### def Folium_Choropleth(type = 'cases',date=''):\n",
        "\n",
        "<br>\n",
        "\n",
        "## Due for Bonus point : Friday (09/11/2020 11:59pm)"
      ]
    },
    {
      "cell_type": "code",
      "metadata": {
        "id": "Qi9EZlbmhPh2",
        "colab_type": "code",
        "colab": {}
      },
      "source": [
        "import folium    \n",
        "from folium import plugins"
      ],
      "execution_count": 84,
      "outputs": []
    },
    {
      "cell_type": "code",
      "metadata": {
        "id": "QM_OR4VxSqEN",
        "colab_type": "code",
        "colab": {}
      },
      "source": [
        ""
      ],
      "execution_count": null,
      "outputs": []
    },
    {
      "cell_type": "code",
      "metadata": {
        "id": "296nY_KHhOc0",
        "colab_type": "code",
        "colab": {}
      },
      "source": [
        ""
      ],
      "execution_count": null,
      "outputs": []
    }
  ]
}